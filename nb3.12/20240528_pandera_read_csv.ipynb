{
 "cells": [
  {
   "cell_type": "markdown",
   "metadata": {},
   "source": [
    "# Panderaで、read_csvで型を適用する"
   ]
  },
  {
   "cell_type": "code",
   "execution_count": 1,
   "metadata": {},
   "outputs": [],
   "source": [
    "import pandera\n",
    "import pandas as pd\n",
    "import io"
   ]
  },
  {
   "cell_type": "code",
   "execution_count": 2,
   "metadata": {
    "metadata": {}
   },
   "outputs": [],
   "source": [
    "class Schema(pandera.DataFrameModel):\n",
    "    h3: str\n",
    "    lat: float\n",
    "    lon: float\n",
    "    group_id: int\n",
    "    num: float"
   ]
  },
  {
   "cell_type": "code",
   "execution_count": 3,
   "metadata": {
    "metadata": {}
   },
   "outputs": [
    {
     "data": {
      "text/plain": [
       "h3           object\n",
       "lat         float64\n",
       "lon         float64\n",
       "group_id      int64\n",
       "num           int64\n",
       "dtype: object"
      ]
     },
     "execution_count": 3,
     "metadata": {},
     "output_type": "execute_result"
    }
   ],
   "source": [
    "buf = io.BytesIO(b\"\"\"h3,lat,lon,group_id,num\n",
    "882f5a32ddfffff,35.6812,139.7671,100,200\n",
    "882f5a32defffff,35.6822,139.7681,101,202\n",
    "\"\"\")\n",
    "df = pd.read_csv(buf)\n",
    "df.dtypes"
   ]
  },
  {
   "cell_type": "code",
   "execution_count": 4,
   "metadata": {
    "metadata": {}
   },
   "outputs": [
    {
     "data": {
      "text/plain": [
       "dtype('int64')"
      ]
     },
     "execution_count": 4,
     "metadata": {},
     "output_type": "execute_result"
    }
   ],
   "source": [
    "# 自動ではINTと見なされる\n",
    "df.num.dtype"
   ]
  },
  {
   "cell_type": "code",
   "execution_count": 5,
   "metadata": {
    "metadata": {}
   },
   "outputs": [
    {
     "name": "stdout",
     "output_type": "stream",
     "text": [
      "expected series 'num' to have type float64, got int64\n"
     ]
    }
   ],
   "source": [
    "# そのままでは、validateするとエラーになる\n",
    "try:\n",
    "    Schema.validate(df)\n",
    "except Exception as e:\n",
    "    print(e)"
   ]
  },
  {
   "cell_type": "code",
   "execution_count": 6,
   "metadata": {
    "metadata": {}
   },
   "outputs": [
    {
     "data": {
      "text/plain": [
       "{'h3': DataType(str),\n",
       " 'lat': DataType(float64),\n",
       " 'lon': DataType(float64),\n",
       " 'group_id': DataType(int64),\n",
       " 'num': DataType(float64)}"
      ]
     },
     "execution_count": 6,
     "metadata": {},
     "output_type": "execute_result"
    }
   ],
   "source": [
    "# dtypesはto_scema()すると取れる\n",
    "Schema.to_schema().dtypes"
   ]
  },
  {
   "cell_type": "code",
   "execution_count": 9,
   "metadata": {
    "metadata": {}
   },
   "outputs": [
    {
     "data": {
      "text/plain": [
       "h3           object\n",
       "lat         float64\n",
       "lon         float64\n",
       "group_id      int64\n",
       "num         float64\n",
       "dtype: object"
      ]
     },
     "execution_count": 9,
     "metadata": {},
     "output_type": "execute_result"
    }
   ],
   "source": [
    "buf = io.BytesIO(b\"\"\"h3,lat,lon,group_id,num\n",
    "882f5a32ddfffff,35.6812,139.7671,100,200\n",
    "882f5a32defffff,35.6822,139.7681,101,202\n",
    "\"\"\")\n",
    "# 一度変換が必要\n",
    "_dtype = {col: str(dtype) for col, dtype in Schema.to_schema().dtypes.items()}\n",
    "df = pd.read_csv(buf, dtype=_dtype)\n",
    "df.dtypes"
   ]
  },
  {
   "cell_type": "code",
   "execution_count": 10,
   "metadata": {
    "metadata": {}
   },
   "outputs": [
    {
     "name": "stdout",
     "output_type": "stream",
     "text": [
      "could not convert string to float: '200bc'\n"
     ]
    }
   ],
   "source": [
    "# 型エラーになるケース\n",
    "buf = io.BytesIO(b\"\"\"h3,lat,lon,group_id,num\n",
    "882f5a32ddfffff,35.6812,139.7671,100,200bc\n",
    "882f5a32defffff,35.6822,139.7681,101,202db\n",
    "\"\"\")\n",
    "_dtype = {col: str(dtype) for col, dtype in Schema.to_schema().dtypes.items()}\n",
    "try:\n",
    "    df = pd.read_csv(buf, dtype=_dtype)\n",
    "except Exception as e:\n",
    "    print(e)\n"
   ]
  },
  {
   "cell_type": "markdown",
   "metadata": {},
   "source": [
    "メモ: pandera_toolsというモジュールがあったが、あまりStarがなく、メンテされているか自信が無かったので利用しない方針"
   ]
  }
 ],
 "metadata": {
  "kernelspec": {
   "display_name": ".venv",
   "language": "python",
   "name": "python3"
  },
  "language_info": {
   "codemirror_mode": {
    "name": "ipython",
    "version": 3
   },
   "file_extension": ".py",
   "mimetype": "text/x-python",
   "name": "python",
   "nbconvert_exporter": "python",
   "pygments_lexer": "ipython3",
   "version": "3.12.2"
  }
 },
 "nbformat": 4,
 "nbformat_minor": 2
}
