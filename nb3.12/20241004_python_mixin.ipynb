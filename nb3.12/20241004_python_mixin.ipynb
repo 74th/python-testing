{
 "cells": [
  {
   "cell_type": "markdown",
   "metadata": {},
   "source": [
    "# 多重ではなく、兄弟で複数継承する"
   ]
  },
  {
   "cell_type": "code",
   "execution_count": 1,
   "metadata": {},
   "outputs": [],
   "source": [
    "import uuid\n",
    "from typing import Protocol"
   ]
  },
  {
   "cell_type": "code",
   "execution_count": 2,
   "metadata": {},
   "outputs": [],
   "source": [
    "class Client:\n",
    "    def __init__(self):\n",
    "        self.id = uuid.uuid4()\n",
    "\n",
    "class Base:\n",
    "    def __init__(self, client: Client):\n",
    "        self._client = client\n"
   ]
  },
  {
   "cell_type": "code",
   "execution_count": 3,
   "metadata": {},
   "outputs": [],
   "source": [
    "class SlaveA(Base):\n",
    "    def __init__(self, client: Client):\n",
    "        super().__init__(client)\n",
    "        self._name = 'SlaveA'\n",
    "\n",
    "    def call_a(self):\n",
    "        print(f'{self._name} called by {self._client.id}')\n",
    "\n",
    "class SlaveB(Base):\n",
    "    def __init__(self, client: Client):\n",
    "        super().__init__(client)\n",
    "        self._name = 'SlaveB'\n",
    "\n",
    "    def call_b(self):\n",
    "        print(f'{self._name} called by {self._client.id}')"
   ]
  },
  {
   "cell_type": "code",
   "execution_count": 4,
   "metadata": {},
   "outputs": [],
   "source": [
    "class ProtocolSlaveA(Protocol):\n",
    "    def call_a(self):\n",
    "        ...\n",
    "\n",
    "class ProtocolSlaveB(Protocol):\n",
    "    def call_b(self):\n",
    "        ...\n",
    "\n",
    "# mixin したプロトコル\n",
    "class ProtocolMaster(ProtocolSlaveA, ProtocolSlaveB):\n",
    "    ..."
   ]
  },
  {
   "cell_type": "code",
   "execution_count": 5,
   "metadata": {},
   "outputs": [],
   "source": [
    "\n",
    "# mixinしたクラスを作る\n",
    "class Master(SlaveA, SlaveB, ProtocolMaster):\n",
    "    pass\n",
    "\n",
    "def create_master()->ProtocolMaster:\n",
    "    client = Client()\n",
    "    master = Master(client)\n",
    "    return master\n"
   ]
  },
  {
   "cell_type": "code",
   "execution_count": 6,
   "metadata": {},
   "outputs": [],
   "source": [
    "m = create_master()"
   ]
  },
  {
   "cell_type": "code",
   "execution_count": 7,
   "metadata": {},
   "outputs": [
    {
     "name": "stdout",
     "output_type": "stream",
     "text": [
      "SlaveA called by 866cd8b6-6493-45bc-9df9-e916a4c54235\n",
      "SlaveA called by 866cd8b6-6493-45bc-9df9-e916a4c54235\n"
     ]
    }
   ],
   "source": [
    "m.call_a()\n",
    "m.call_b()"
   ]
  },
  {
   "cell_type": "markdown",
   "metadata": {},
   "source": [
    "関数は複数持つけれど、self._name で参照されるものは1つらしい。。。"
   ]
  }
 ],
 "metadata": {
  "kernelspec": {
   "display_name": ".venv",
   "language": "python",
   "name": "python3"
  },
  "language_info": {
   "codemirror_mode": {
    "name": "ipython",
    "version": 3
   },
   "file_extension": ".py",
   "mimetype": "text/x-python",
   "name": "python",
   "nbconvert_exporter": "python",
   "pygments_lexer": "ipython3",
   "version": "3.12.3"
  }
 },
 "nbformat": 4,
 "nbformat_minor": 2
}
