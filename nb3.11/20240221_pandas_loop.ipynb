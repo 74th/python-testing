{
 "cells": [
  {
   "cell_type": "code",
   "execution_count": 1,
   "metadata": {},
   "outputs": [
    {
     "name": "stderr",
     "output_type": "stream",
     "text": [
      "/tmp/ipykernel_2981838/3059718635.py:1: DeprecationWarning: \n",
      "Pyarrow will become a required dependency of pandas in the next major release of pandas (pandas 3.0),\n",
      "(to allow more performant data types, such as the Arrow string type, and better interoperability with other libraries)\n",
      "but was not found to be installed on your system.\n",
      "If this would cause problems for you,\n",
      "please provide us feedback at https://github.com/pandas-dev/pandas/issues/54466\n",
      "        \n",
      "  import pandas as pd\n"
     ]
    }
   ],
   "source": [
    "import pandas as pd\n",
    "import numpy as np\n",
    "import datetime"
   ]
  },
  {
   "cell_type": "code",
   "execution_count": 28,
   "metadata": {},
   "outputs": [
    {
     "name": "stdout",
     "output_type": "stream",
     "text": [
      "<class 'pandas.core.series.Series'>\n",
      "0: A:1, B:True\n",
      "<class 'pandas.core.series.Series'>\n",
      "1: A:2, B:False\n",
      "<class 'pandas.core.series.Series'>\n",
      "2: A:3, B:True\n"
     ]
    }
   ],
   "source": [
    "# iterrows() は、indexと引数を2つもつ\n",
    "df = pd.DataFrame({\"A\":[1,2,3], \"B\": [True, False,True]})\n",
    "for i, row in df.iterrows():\n",
    "    print(type(row))\n",
    "    print(f\"{i}: A:{row.A}, B:{row.B}\")"
   ]
  },
  {
   "cell_type": "code",
   "execution_count": null,
   "metadata": {},
   "outputs": [],
   "source": []
  },
  {
   "cell_type": "code",
   "execution_count": 24,
   "metadata": {},
   "outputs": [
    {
     "name": "stdout",
     "output_type": "stream",
     "text": [
      "<class 'pandas.core.frame.Pandas'>\n",
      "0: A:1 B:True\n",
      "<class 'pandas.core.frame.Pandas'>\n",
      "1: A:2 B:False\n",
      "<class 'pandas.core.frame.Pandas'>\n",
      "2: A:3 B:True\n"
     ]
    }
   ],
   "source": [
    "# itertuples() は、namedtupleを返す\n",
    "df = pd.DataFrame({\"A\":[1,2,3], \"B\": [True, False,True]})\n",
    "for row in df.itertuples():\n",
    "    print(type(row))\n",
    "    print(f\"{row.Index}: A:{row.A} B:{row.B}\")"
   ]
  },
  {
   "cell_type": "code",
   "execution_count": null,
   "metadata": {},
   "outputs": [],
   "source": []
  },
  {
   "cell_type": "code",
   "execution_count": null,
   "metadata": {},
   "outputs": [],
   "source": []
  }
 ],
 "metadata": {
  "kernelspec": {
   "display_name": ".venv",
   "language": "python",
   "name": "python3"
  },
  "language_info": {
   "codemirror_mode": {
    "name": "ipython",
    "version": 3
   },
   "file_extension": ".py",
   "mimetype": "text/x-python",
   "name": "python",
   "nbconvert_exporter": "python",
   "pygments_lexer": "ipython3",
   "version": "3.11.1"
  }
 },
 "nbformat": 4,
 "nbformat_minor": 2
}
